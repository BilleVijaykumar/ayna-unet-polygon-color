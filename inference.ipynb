{
 "cells": [
  {
   "cell_type": "code",
   "execution_count": null,
   "id": "c4cebf03",
   "metadata": {},
   "outputs": [],
   "source": [
    "# Cell 1: Load model\n",
    "import torch\n",
    "from PIL import Image\n",
    "import matplotlib.pyplot as plt\n",
    "from model.unet import UNet\n",
    "from utils import get_transforms, COLOR_DICT\n",
    "\n",
    "model = UNet()\n",
    "model.load_state_dict(torch.load(\"unet_model.pth\", map_location=torch.device('cpu')))\n",
    "model.eval()"
   ]
  },
  {
   "cell_type": "code",
   "execution_count": null,
   "id": "aea6e609",
   "metadata": {},
   "outputs": [],
   "source": [
    "# Cell 2: Prepare input\n",
    "transform = get_transforms()\n",
    "img = Image.open(\"dataset/validation/inputs/hexagon.png\").convert(\"L\")\n",
    "color_name = \"red\"\n",
    "cond = torch.tensor(COLOR_DICT[color_name]).unsqueeze(0)\n",
    "x = transform(img).unsqueeze(0)\n"
   ]
  },
  {
   "cell_type": "code",
   "execution_count": null,
   "id": "fbef125e",
   "metadata": {},
   "outputs": [],
   "source": [
    "# Cell 3: Predict and visualize\n",
    "pred = model(x, cond).squeeze(0).detach().permute(1, 2, 0).numpy()\n",
    "\n",
    "plt.subplot(1, 2, 1)\n",
    "plt.imshow(img, cmap='gray')\n",
    "plt.title(\"Input\")\n",
    "\n",
    "plt.subplot(1, 2, 2)\n",
    "plt.imshow(pred)\n",
    "plt.title(\"Output\")\n",
    "plt.show()\n"
   ]
  }
 ],
 "metadata": {
  "kernelspec": {
   "display_name": "base",
   "language": "python",
   "name": "python3"
  },
  "language_info": {
   "codemirror_mode": {
    "name": "ipython",
    "version": 3
   },
   "file_extension": ".py",
   "mimetype": "text/x-python",
   "name": "python",
   "nbconvert_exporter": "python",
   "pygments_lexer": "ipython3",
   "version": "3.9.13"
  }
 },
 "nbformat": 4,
 "nbformat_minor": 5
}
